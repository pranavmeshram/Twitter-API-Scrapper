{
 "cells": [
  {
   "cell_type": "markdown",
   "metadata": {},
   "source": [
    "### AngelList Twitter Scrapping"
   ]
  },
  {
   "cell_type": "code",
   "execution_count": 1,
   "metadata": {},
   "outputs": [
    {
     "name": "stdout",
     "output_type": "stream",
     "text": [
      "File with tweets has been created\n",
      "               Name                                               Text\n",
      "theSamParr           b'@theSamParr Our data is supports this thinki...\n",
      "packyM               b\"RT @packyM: Did you know that you can invest...\n",
      "seyiakinruntan       b'@seyiakinruntan Hello! Thanks for reaching o...\n",
      "exAspArk                                 b'@exAspArk \\xf0\\x9f\\xa5\\xb3'\n",
      "dunkhippo33          b\"RT @dunkhippo33: @mlstotts you def can -- de...\n",
      "mlstotts             b\"RT @dunkhippo33: @mlstotts you def can -- de...\n",
      "AngelList            b\"RT @dunkhippo33: @mlstotts you def can -- de...\n",
      "ET                   b'@ET Hi there! You can reach us at team@angel...\n",
      "Un_Francais_         b'@Un_Francais_ Hi there! Could you please rea...\n",
      "harjtaggar           b\"RT @harjtaggar: It's cool that being a succe...\n",
      "Missaenagy           b'@Missaenagy Hi there! The login issues seem ...\n",
      "BrodeurJaden         b'RT @BrodeurJaden: I asked 25 VCs/People in t...\n",
      "droidlabour          b'@droidlabour Hello! Send us an email at team...\n",
      "avlok                b'Happening now: Rolling Funds AMA on Twitter ...\n",
      "thecaptable          b'@thecaptable @NotionHQ @googledrive @Superhu...\n",
      "NotionHQ             b'@thecaptable @NotionHQ @googledrive @Superhu...\n",
      "googledrive          b'@thecaptable @NotionHQ @googledrive @Superhu...\n",
      "Superhuman           b'@thecaptable @NotionHQ @googledrive @Superhu...\n",
      "avlok                b'Curious about Rolling Funds? Join us for a R...\n",
      "alexrkonrad          b'And thanks to @alexrkonrad for covering the ...\n"
     ]
    }
   ],
   "source": [
    "import csv                    #comes in-build with python\n",
    "import tweepy                 #run cmd -> \"pip install tweepy\"\n",
    "import pandas as pd           #run cmd -> \"pip install pandas\"\n",
    "\n",
    "auth = tweepy.OAuthHandler('yvU1l3ePlCjo8MAnNiMguvnVc', 'xJejOubYQB64FUUR5kpoV1MhMcEh0tIyx0KcjQYuw9Ce6n9uR7')\n",
    "auth.set_access_token('1362676910086516736-Bhjk7ZhKnLXbUALdUnsAyQCKFt1z2p','fLzADTA5b6bhIKFqGC2ibYhpLQfcV2MfFzIMdY9Wvxwpr')\n",
    "\n",
    "api = tweepy.API(auth)\n",
    "\n",
    "\n",
    "filename = \"test_results.csv\"\n",
    "with open(filename, 'w') as csvfile:\n",
    "    \n",
    "    # Table headings  \n",
    "    fields = ['Name', 'Text']\n",
    "    \n",
    "    # creating a csv writer object  \n",
    "    csvwriter = csv.writer(csvfile) \n",
    "    \n",
    "    # writing the fields  \n",
    "    csvwriter.writerow(fields)  \n",
    "    \n",
    "    for tweet in tweepy.Cursor(api.user_timeline, id=\"AngelList\").items(20): #Mentioned user timeline tweets for first 20 items.\n",
    "        if tweet.entities.get('user_mentions'): # to check if there are any users mentioned\n",
    "            \n",
    "            for item in tweet.entities.get('user_mentions'):  #iterating the tweets so that each tweet is fetch and stored in the file   \n",
    "                rows = [ [item.get('screen_name'), \"   \",tweet.text.encode('utf-8'),]]  # table rows of csv file  \n",
    "                \n",
    "                # writing the rows in the file\n",
    "                csvwriter.writerows(rows) \n",
    "    else:\n",
    "        print(\"File with tweets has been created\")\n",
    "        \n",
    "        \n",
    "df = pd.read_csv(\"test_results.csv\") \n",
    "print(df)"
   ]
  }
 ],
 "metadata": {
  "kernelspec": {
   "display_name": "Python 3",
   "language": "python",
   "name": "python3"
  },
  "language_info": {
   "codemirror_mode": {
    "name": "ipython",
    "version": 3
   },
   "file_extension": ".py",
   "mimetype": "text/x-python",
   "name": "python",
   "nbconvert_exporter": "python",
   "pygments_lexer": "ipython3",
   "version": "3.7.6"
  }
 },
 "nbformat": 4,
 "nbformat_minor": 4
}
